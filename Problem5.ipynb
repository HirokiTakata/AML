{
 "cells": [
  {
   "cell_type": "code",
   "execution_count": 120,
   "metadata": {},
   "outputs": [
    {
     "data": {
      "text/plain": [
       "[<matplotlib.lines.Line2D at 0x7f876570e898>]"
      ]
     },
     "execution_count": 120,
     "metadata": {},
     "output_type": "execute_result"
    },
    {
     "data": {
      "image/png": "[encoded data removed]",
      "text/plain": [
       "<Figure size 432x288 with 1 Axes>"
      ]
     },
     "metadata": {
      "needs_background": "light"
     },
     "output_type": "display_data"
    }
   ],
   "source": [
    "import numpy as np\n",
    "import matplotlib.pyplot as plt\n",
    "import cvxpy as cv\n",
    "\n",
    "# dataset 1\n",
    "np.random.seed(123)\n",
    "n = 100\n",
    "x_d1 = 3 * (np.random.rand(n, 2) - 0.5)\n",
    "radius = x_d1[:,0]**2 + x_d1[:,1]**2\n",
    "y_d1 = (radius > 0.7 + 0.1 * np.random.randn(n)) & ( radius < 2.2 + 0.1 * np.random.randn(n))\n",
    "y_d1 = 2 * y_d1 - 1\n",
    "\n",
    "plt.plot(x_d1[y_d1 < 0, 0],  x_d1[y_d1 < 0, 1], 'bs')\n",
    "plt.plot(x_d1[y_d1 > 0, 0],  x_d1[y_d1 > 0, 1], 'ro')"
   ]
  },
  {
   "cell_type": "code",
   "execution_count": 121,
   "metadata": {},
   "outputs": [],
   "source": [
    "def kernel(xi, xj, alpha=1):\n",
    "    return np.exp(-alpha*np.sum((xi[0] - xj[0])**2 + (xi[1] - xj[1])**2))\n",
    "\n",
    "def loss_func(X,y,alpha):\n",
    "    sum = 0\n",
    "    for i in range(len(X)):\n",
    "        for j in range(len(X)):\n",
    "            sum += alpha[i]*alpha[j]*y[i]*y[j]*kernel(X[i],X[j])\n",
    "            \n",
    "    return np.sum(alpha) - sum/2\n",
    "\n",
    "def direction(X,y,i,alpha):\n",
    "    sum = 0\n",
    "    for j in range(len(X)):\n",
    "        sum += alpha[j]*alpha[j]*y[i]*y[j]*kernel(X[i],X[j])\n",
    "    return 1 - sum\n",
    "\n",
    "loss_hist_batch = []\n",
    "alpha_hist = []\n",
    "epochs = 30\n",
    "n = len(x_d1)\n",
    "lr = 0.05\n",
    "alpha = np.zeros(n)\n",
    "direct = np.zeros(n)\n",
    "for t in range(epochs):\n",
    "    alpha_hist.append(alpha)\n",
    "    for i in range(n):\n",
    "        direct = direction(x_d1,y_d1,i,alpha)\n",
    "    loss = loss_func(x_d1,y_d1,alpha)\n",
    "    loss_hist_batch.append(loss)\n",
    "    alpha += lr * direct\n",
    "\n",
    "loss_max_index = np.argmax(loss_hist_batch)\n",
    "alpha = alpha_hist[loss_max_index]"
   ]
  },
  {
   "cell_type": "code",
   "execution_count": 122,
   "metadata": {},
   "outputs": [
    {
     "name": "stdout",
     "output_type": "stream",
     "text": [
      "10\n"
     ]
    },
    {
     "data": {
      "image/png": "[encoded data removed]",
      "text/plain": [
       "<Figure size 432x288 with 1 Axes>"
      ]
     },
     "metadata": {
      "needs_background": "light"
     },
     "output_type": "display_data"
    }
   ],
   "source": [
    "plt.plot((np.abs(loss_hist_batch)),label='kernel-trick')\n",
    "plt.legend()\n",
    "plt.xlabel('t')\n",
    "plt.ylabel('loss')\n",
    "print(loss_max_index)"
   ]
  },
  {
   "cell_type": "code",
   "execution_count": 123,
   "metadata": {},
   "outputs": [],
   "source": [
    "def classsifier(X,x,y,alpha):\n",
    "    y_x = 0\n",
    "    for i in range(n):\n",
    "        y_x += alpha[i]*y[i]*kernel(X[i],x)\n",
    "    \n",
    "    return y_x"
   ]
  },
  {
   "cell_type": "code",
   "execution_count": 124,
   "metadata": {},
   "outputs": [
    {
     "name": "stdout",
     "output_type": "stream",
     "text": [
      "0.67\n"
     ]
    }
   ],
   "source": [
    "total = n\n",
    "correct = 0\n",
    "y_pred = np.zeros(n)\n",
    "for i in range(n):\n",
    "    y_pred[i] = classsifier(x_d1,x_d1[i],y_d1,alpha)\n",
    "    if y_pred[i] > 0:\n",
    "        y_pred[i] = 1\n",
    "    elif y_pred[i] < 0:\n",
    "        y_pred[i] = -1\n",
    "    \n",
    "    if y_pred[i] == y_d1[i]:\n",
    "        correct += 1\n",
    "print(correct/total)"
   ]
  },
  {
   "cell_type": "code",
   "execution_count": 29,
   "metadata": {},
   "outputs": [],
   "source": [
    "#w.t*x = 0 w1*x1 + w2*x2 = 0 x2 = -w1/w2 * x1\n",
    "#w.t*x = 1\n",
    "#w.t*x = -1\n",
    "\n",
    "x_g = np.arange(-1.5,1.5,0.01)\n",
    "#y_g = -w[0]/w[1]"
   ]
  },
  {
   "cell_type": "code",
   "execution_count": 30,
   "metadata": {},
   "outputs": [
    {
     "data": {
      "text/plain": [
       "[<matplotlib.lines.Line2D at 0x7f87678031d0>]"
      ]
     },
     "execution_count": 30,
     "metadata": {},
     "output_type": "execute_result"
    },
    {
     "data": {
      "image/png": "[encoded data removed]",
      "text/plain": [
       "<Figure size 432x288 with 1 Axes>"
      ]
     },
     "metadata": {
      "needs_background": "light"
     },
     "output_type": "display_data"
    }
   ],
   "source": [
    "plt.plot(x_g,  y_g, 'gs')\n",
    "plt.plot(x_d1[y_d1 < 0, 0],  x_d1[y_d1 < 0, 1], 'bs')\n",
    "plt.plot(x_d1[y_d1 > 0, 0],  x_d1[y_d1 > 0, 1], 'ro')"
   ]
  },
  {
   "cell_type": "code",
   "execution_count": null,
   "metadata": {},
   "outputs": [],
   "source": []
  }
 ],
 "metadata": {
  "kernelspec": {
   "display_name": "Python 3",
   "language": "python",
   "name": "python3"
  },
  "language_info": {
   "codemirror_mode": {
    "name": "ipython",
    "version": 3
   },
   "file_extension": ".py",
   "mimetype": "text/x-python",
   "name": "python",
   "nbconvert_exporter": "python",
   "pygments_lexer": "ipython3",
   "version": "3.6.9"
  }
 },
 "nbformat": 4,
 "nbformat_minor": 4
}
