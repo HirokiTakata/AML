{
 "cells": [
  {
   "cell_type": "code",
   "execution_count": 1,
   "metadata": {},
   "outputs": [],
   "source": [
    "# requirement\n",
    "import numpy as np\n",
    "import matplotlib.pyplot as plt\n",
    "import cvxpy"
   ]
  },
  {
   "cell_type": "code",
   "execution_count": 2,
   "metadata": {},
   "outputs": [],
   "source": [
    "# dataset IV\n",
    "n = 200\n",
    "x_d4 = 3 * (np.random.rand(n, 4) - 0.5)\n",
    "y_d4 = (2 * x_d4[:, 0] - 1 * x_d4[:, 1] + 0.5 + 0.5 * np.random.randn(n)) > 0\n",
    "y_d4 = 2 * y_d4 -1"
   ]
  },
  {
   "cell_type": "code",
   "execution_count": 3,
   "metadata": {},
   "outputs": [],
   "source": [
    "loss_hist_batch = []\n",
    "\n",
    "lam = 0.01\n",
    "w = 10.0\n",
    "iteration = 300\n",
    "alpha = 0.1\n",
    "lip = 0.25*max(x_d4[:,0]**2)\n",
    "\n",
    "def loss_func(w,X,y,lam):\n",
    "    n = len(y)\n",
    "    return 1/n * np.sum(np.log(1+np.exp(-y*(w*X[:,0]-X[:,1])))) + lam * w**2\n",
    "\n",
    "def direction(w,X,y,lam):\n",
    "    n = len(y)\n",
    "    return 1/n * np.sum(1*y*X[:,0]*(1 - (1/(1 + np.exp(-y*(w*X[:,0]-X[:,1])))))) + 2*lam*w\n",
    "\n",
    "for t in range(1,iteration+1):\n",
    "    direct = direction(w,x_d4,y_d4,lam)\n",
    "    loss = loss_func(w,x_d4,y_d4,lam)\n",
    "    loss_hist_batch.append(loss)\n",
    "    w -= (alpha/np.sqrt(t)/lip) * direct\n"
   ]
  },
  {
   "cell_type": "code",
   "execution_count": 4,
   "metadata": {},
   "outputs": [],
   "source": [
    "loss_hist_newton = []\n",
    "\n",
    "lam = 0.01\n",
    "w = 10.0\n",
    "iteration = 300\n",
    "alpha = 0.1\n",
    "\n",
    "def grad(w,X,y,lam):\n",
    "    n = len(y)\n",
    "    hess = (1/(1 + np.exp(-y*(w*X[:,0]-X[:,1])))) * (1 - (1/(1 + np.exp(-y*(w*X[:,0]-X[:,1]))))) \n",
    "    return 1/n * np.sum(hess * X[:,0]**2) + 2*lam\n",
    "\n",
    "for t in range(1,iteration+1):\n",
    "    direct = direction(w,x_d4,y_d4,lam)\n",
    "    hess = grad(w,x_d4,y_d4,lam)\n",
    "    loss = loss_func(w,x_d4,y_d4,lam)\n",
    "    loss_hist_newton.append(loss)\n",
    "    w -= (alpha/np.sqrt(t+10)) * (direct/hess)\n",
    "\n",
    "min_loss = min(min(loss_hist_batch,loss_hist_newton))"
   ]
  },
  {
   "cell_type": "code",
   "execution_count": 5,
   "metadata": {},
   "outputs": [
    {
     "data": {
      "text/plain": [
       "Text(0, 0.5, 'loss')"
      ]
     },
     "execution_count": 5,
     "metadata": {},
     "output_type": "execute_result"
    },
    {
     "data": {
      "image/png": "[encoded data removed]",
      "text/plain": [
       "<Figure size 432x288 with 1 Axes>"
      ]
     },
     "metadata": {
      "needs_background": "light"
     },
     "output_type": "display_data"
    }
   ],
   "source": [
    "# plot the result\n",
    "plt.plot((np.abs(loss_hist_batch - min_loss)),label='steepest')\n",
    "plt.plot((np.abs(loss_hist_newton - min_loss)),label='newton')\n",
    "plt.legend()\n",
    "plt.xlabel('t')\n",
    "plt.ylabel('loss')"
   ]
  },
  {
   "cell_type": "code",
   "execution_count": 6,
   "metadata": {},
   "outputs": [],
   "source": [
    "#dataset V\n",
    "n = 200\n",
    "x_d5 = 3*(np.random.rand(n,4)-0.5)\n",
    "W = np.array([[2,-1,0.5],\n",
    "             [-3,2,1],\n",
    "             [1,2,3]])\n",
    "y_d5 = np.argmax(np.dot(np.hstack([x_d5[:,:2],np.ones((n,1))]),W.T) + 0.5*np.random.randn(n,3),axis=1)"
   ]
  },
  {
   "cell_type": "code",
   "execution_count": 7,
   "metadata": {},
   "outputs": [],
   "source": [
    "def OHV(Y,class_n):\n",
    "    y = np.zeros((200,3))\n",
    "    for i in range(len(Y)):\n",
    "        yi = np.zeros(class_n)\n",
    "        yi[Y[i]] = 1\n",
    "        y[i] = yi\n",
    "    \n",
    "    return y"
   ]
  },
  {
   "cell_type": "code",
   "execution_count": 8,
   "metadata": {
    "scrolled": true
   },
   "outputs": [],
   "source": [
    "# 多クラスロジスティック回帰\n",
    "import matplotlib.pyplot as plt\n",
    "import numpy as np\n",
    "from matplotlib import cm\n",
    "\n",
    "# 判別結果\n",
    "def f(x0, x1):\n",
    "    return np.argmax(np.dot(w.T, np.array([x0, x1, 1.0])))\n",
    "\n",
    "# 交差エントロピー誤差\n",
    "def Ew(y, T):\n",
    "    ew = 0\n",
    "    for n in range(N):\n",
    "        for k in range(K):\n",
    "            ew -= T[n, k] * np.log(y[n, k])\n",
    "    return ew\n",
    "\n",
    "# ソフトマックス関数\n",
    "def softmax(a, k):\n",
    "    return np.exp(a[k])/np.sum(np.exp(a))\n",
    "\n",
    "# 重み付け行列Rを計算\n",
    "def R_(y, i, j):\n",
    "    I = np.eye(N)\n",
    "    R_ij = np.empty(N)\n",
    "    for k in range(N):\n",
    "        R_ij[k] = y[k, i] * (I[i, j] - y[k, j])\n",
    "    return np.diag(R_ij)\n",
    "\n",
    "# ヘッセ行列を計算\n",
    "def H_(y):\n",
    "    H = np.empty([M * K, M * K])\n",
    "    for i in range(K):\n",
    "        for j in range(K):\n",
    "            # 重み付け行列R\n",
    "            R = R_(y, i, j)\n",
    "            H[M * j:M * j + M, M * i:M * i + M] = np.dot(np.dot(X.T, R), X)\n",
    "    return H\n",
    "\n",
    "Multi_loss_hist_batch = []\n",
    "\n",
    "N = y_d5.shape[0] #\n",
    "M = x_d5.shape[1] # x次元\n",
    "K = 3 # class\n",
    "\n",
    "X = x_d5\n",
    "\n",
    "T = OHV(y_d5,K)\n",
    "# パラメータw初期化\n",
    "w = np.zeros([M, K])\n",
    "\n",
    "# ベクトルy\n",
    "y = np.zeros([N, K])\n",
    "a = np.dot(X, w)\n",
    "for i in range(N):\n",
    "    y[i, :] = np.array([softmax(a[i, :], k) for k in range(K)])\n",
    "\n",
    "# 勾配ベクトルを計算\n",
    "dw = np.zeros([M*K])\n",
    "for k in range(K):\n",
    "    dw[k * M:k * M + M] = np.dot(X.T, y[:, k] - T[:, k])\n",
    "\n",
    "# 最急降下法\n",
    "w = w.T.flatten()\n",
    "for it in range(100):\n",
    "# 交差エントロピー誤差\n",
    "    Multi_loss_hist_batch.append(Ew(y,T))\n",
    "    w -= 0.1*dw\n",
    "    a = np.dot(X, w.reshape([K, M]).T)\n",
    "    for i in range(N):\n",
    "        y[i, :] = np.array([softmax(a[i, :], k) for k in range(K)])\n",
    "    for k in range(K):\n",
    "        dw[k * M:k * M + M] = np.dot(X.T, y[:, k] - T[:, k])\n",
    "w = w.reshape([M, K]).T\n"
   ]
  },
  {
   "cell_type": "code",
   "execution_count": 9,
   "metadata": {
    "scrolled": true
   },
   "outputs": [],
   "source": [
    "Multi_loss_hist_newton = []\n",
    "X = x_d5\n",
    "T = OHV(y_d5,K)\n",
    "\n",
    "# パラメータw初期化\n",
    "w = np.zeros([M, K])\n",
    "\n",
    "# ベクトルy\n",
    "y = np.zeros([N, K])\n",
    "a = np.dot(X, w)\n",
    "for i in range(N):\n",
    "    y[i, :] = np.array([softmax(a[i, :], k) for k in range(K)])\n",
    "\n",
    "# 勾配ベクトルを計算\n",
    "dw = np.zeros([M*K])\n",
    "for k in range(K):\n",
    "    dw[k * M:k * M + M] = np.dot(X.T, y[:, k] - T[:, k])\n",
    "# ヘッセ行列\n",
    "H = H_(y)\n",
    "\n",
    "# ニュートン法\n",
    "w = w.T.flatten()\n",
    "for ite in range(100):\n",
    "    #print(Ew(y, T))\n",
    "    Multi_loss_hist_newton.append(Ew(y,T))\n",
    "    # w -= np.dot(np.linalg.inv(H), dw)\n",
    "    w -= np.dot(np.linalg.pinv(H), dw)\n",
    "    # yを再計算\n",
    "    a = np.dot(X, w.reshape([K, M]).T)\n",
    "    for i in range(N):\n",
    "        y[i, :] = np.array([softmax(a[i, :], k) for k in range(K)])\n",
    "    # 勾配を再計算\n",
    "    for k in range(K):\n",
    "        dw[k * M:k * M + M] = np.dot(X.T, y[:, k] - T[:, k])\n",
    "    # ヘッセ行列を再計算\n",
    "    H = H_(y)\n",
    "    \n",
    "w = w.reshape([M, K]).T"
   ]
  },
  {
   "cell_type": "code",
   "execution_count": 10,
   "metadata": {},
   "outputs": [
    {
     "data": {
      "text/plain": [
       "Text(0, 0.5, 'cross entropy loss')"
      ]
     },
     "execution_count": 10,
     "metadata": {},
     "output_type": "execute_result"
    },
    {
     "data": {
      "image/png": "[encoded data removed]",
      "text/plain": [
       "<Figure size 432x288 with 1 Axes>"
      ]
     },
     "metadata": {
      "needs_background": "light"
     },
     "output_type": "display_data"
    }
   ],
   "source": [
    "Multi_min_loss = min(min(Multi_loss_hist_batch,Multi_loss_hist_newton))\n",
    "plt.plot((np.abs(Multi_loss_hist_batch - Multi_min_loss)),label='steepest')\n",
    "plt.plot((np.abs(Multi_loss_hist_newton - Multi_min_loss)),label='newton')\n",
    "plt.legend()\n",
    "plt.xlabel('t')\n",
    "plt.ylabel('cross entropy loss')"
   ]
  },
  {
   "cell_type": "code",
   "execution_count": 11,
   "metadata": {},
   "outputs": [
    {
     "name": "stdout",
     "output_type": "stream",
     "text": [
      "85.64305857991212\n"
     ]
    }
   ],
   "source": [
    "print(Multi_min_loss)"
   ]
  }
 ],
 "metadata": {
  "kernelspec": {
   "display_name": "Python 3",
   "language": "python",
   "name": "python3"
  },
  "language_info": {
   "codemirror_mode": {
    "name": "ipython",
    "version": 3
   },
   "file_extension": ".py",
   "mimetype": "text/x-python",
   "name": "python",
   "nbconvert_exporter": "python",
   "pygments_lexer": "ipython3",
   "version": "3.6.9"
  }
 },
 "nbformat": 4,
 "nbformat_minor": 4
}
